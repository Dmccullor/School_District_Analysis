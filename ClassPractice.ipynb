{
 "cells": [
  {
   "cell_type": "code",
   "execution_count": 1,
   "id": "f000eea7",
   "metadata": {},
   "outputs": [],
   "source": [
    "class Cat:\n",
    "    def __init__(self, name):\n",
    "        self.name = name"
   ]
  },
  {
   "cell_type": "code",
   "execution_count": 3,
   "id": "8606aa92",
   "metadata": {},
   "outputs": [
    {
     "name": "stdout",
     "output_type": "stream",
     "text": [
      "Felix\n"
     ]
    }
   ],
   "source": [
    "first_cat = Cat('Felix')\n",
    "print(first_cat.name)"
   ]
  },
  {
   "cell_type": "code",
   "execution_count": 4,
   "id": "c9c1e489",
   "metadata": {},
   "outputs": [
    {
     "name": "stdout",
     "output_type": "stream",
     "text": [
      "Garfield\n"
     ]
    }
   ],
   "source": [
    "second_cat = Cat('Garfield')\n",
    "print(second_cat.name)"
   ]
  },
  {
   "cell_type": "code",
   "execution_count": 5,
   "id": "851d16d6",
   "metadata": {},
   "outputs": [
    {
     "data": {
      "text/plain": [
       "'Garfield'"
      ]
     },
     "execution_count": 5,
     "metadata": {},
     "output_type": "execute_result"
    }
   ],
   "source": [
    "second_cat.name"
   ]
  },
  {
   "cell_type": "code",
   "execution_count": 6,
   "id": "70fb8b6e",
   "metadata": {},
   "outputs": [],
   "source": [
    "class Dog:\n",
    "    def __init__(self, name, color, sound):\n",
    "        self.name = name\n",
    "        self.color = color\n",
    "        self.sound = sound\n",
    "    \n",
    "    def bark(self):\n",
    "        return self.sound + ' ' + self.sound"
   ]
  },
  {
   "cell_type": "code",
   "execution_count": 8,
   "id": "f340721e",
   "metadata": {},
   "outputs": [
    {
     "name": "stdout",
     "output_type": "stream",
     "text": [
      "Fido\n",
      "Brown\n"
     ]
    },
    {
     "data": {
      "text/plain": [
       "'woof! woof!'"
      ]
     },
     "execution_count": 8,
     "metadata": {},
     "output_type": "execute_result"
    }
   ],
   "source": [
    "first_dog = Dog('Fido', 'Brown', 'woof!')\n",
    "print(first_dog.name)\n",
    "print(first_dog.color)\n",
    "first_dog.bark()"
   ]
  },
  {
   "cell_type": "code",
   "execution_count": 9,
   "id": "c3c72713",
   "metadata": {},
   "outputs": [
    {
     "name": "stdout",
     "output_type": "stream",
     "text": [
      "Lady\n",
      "Blonde\n"
     ]
    },
    {
     "data": {
      "text/plain": [
       "'arf! arf!'"
      ]
     },
     "execution_count": 9,
     "metadata": {},
     "output_type": "execute_result"
    }
   ],
   "source": [
    "second_dog = Dog('Lady', 'Blonde', 'arf!')\n",
    "print(second_dog.name)\n",
    "print(second_dog.color)\n",
    "second_dog.bark()"
   ]
  },
  {
   "cell_type": "code",
   "execution_count": null,
   "id": "9d4ed465",
   "metadata": {},
   "outputs": [],
   "source": []
  }
 ],
 "metadata": {
  "kernelspec": {
   "display_name": "PythonData",
   "language": "python",
   "name": "pythondata"
  },
  "language_info": {
   "codemirror_mode": {
    "name": "ipython",
    "version": 3
   },
   "file_extension": ".py",
   "mimetype": "text/x-python",
   "name": "python",
   "nbconvert_exporter": "python",
   "pygments_lexer": "ipython3",
   "version": "3.7.10"
  }
 },
 "nbformat": 4,
 "nbformat_minor": 5
}
